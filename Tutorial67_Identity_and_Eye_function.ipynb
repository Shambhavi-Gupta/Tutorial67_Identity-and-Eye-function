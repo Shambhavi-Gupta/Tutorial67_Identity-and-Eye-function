{
  "nbformat": 4,
  "nbformat_minor": 0,
  "metadata": {
    "colab": {
      "name": "Tutorial67_Identity-and-Eye-function.ipynb",
      "provenance": [],
      "authorship_tag": "ABX9TyMcT+EvNBduXiZ4lIlpAJhh",
      "include_colab_link": true
    },
    "kernelspec": {
      "name": "python3",
      "display_name": "Python 3"
    }
  },
  "cells": [
    {
      "cell_type": "markdown",
      "metadata": {
        "id": "view-in-github",
        "colab_type": "text"
      },
      "source": [
        "<a href=\"https://colab.research.google.com/github/Shambhavi-Gupta/Tutorial67_Identity-and-Eye-function/blob/main/Tutorial67_Identity_and_Eye_function.ipynb\" target=\"_parent\"><img src=\"https://colab.research.google.com/assets/colab-badge.svg\" alt=\"Open In Colab\"/></a>"
      ]
    },
    {
      "cell_type": "code",
      "metadata": {
        "id": "tIALXXkrpqlT"
      },
      "source": [
        "import numpy as np\r\n",
        "#help(np.eye)\r\n",
        "# a = np.eye(3)\r\n",
        "# print(a)\r\n",
        "# a = np.eye(4,5)\r\n",
        "# print(a)\r\n",
        "# a = np.eye(3,k=-1)\r\n",
        "# print(a)\r\n",
        "# a = np.eye(4,k=2,dtype=int)\r\n",
        "# print(a)\r\n",
        "#help(np.identity)\r\n",
        "a = np.identity(3,dtype = int)\r\n",
        "print(a)"
      ],
      "execution_count": null,
      "outputs": []
    }
  ]
}